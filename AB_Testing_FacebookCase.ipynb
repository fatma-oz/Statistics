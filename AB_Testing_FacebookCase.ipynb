{
 "cells": [
  {
   "cell_type": "markdown",
   "metadata": {},
   "source": [
    "# A/B TESTING "
   ]
  },
  {
   "cell_type": "markdown",
   "metadata": {},
   "source": [
    "## Maximum Cost Bidding vs Average Cost Bidding"
   ]
  },
  {
   "cell_type": "code",
   "execution_count": 1,
   "metadata": {
    "executionInfo": {
     "elapsed": 965,
     "status": "ok",
     "timestamp": 1667059448501,
     "user": {
      "displayName": "Merve Tuğçe Musaoğlu",
      "userId": "17830071718935487314"
     },
     "user_tz": -180
    },
    "id": "184d3a22"
   },
   "outputs": [],
   "source": [
    "import pandas as pd\n",
    "import numpy as np\n",
    "from statsmodels.stats import proportion as pr\n",
    "import seaborn as sns\n",
    "import matplotlib.pyplot as plt\n",
    "import warnings\n",
    "import statsmodels.stats.api as sms\n",
    "\n",
    "warnings.filterwarnings (\"ignore\")\n",
    "pd.set_option ('display.float_format', lambda x: '%.6f' % x)\n",
    "pd.set_option ('display.width', None)\n",
    "pd.set_option ('display.max_columns', None)"
   ]
  },
  {
   "cell_type": "code",
   "execution_count": 2,
   "metadata": {
    "id": "8b97cfc4"
   },
   "outputs": [],
   "source": [
    "# Maximum Cost Bidding vs Average Cost Bidding\n",
    "# https://incipia.co/post/app-marketing/facebook-ads-launches-average-cost-and-maximum-cost-bidding/\n",
    "\n",
    "# Control Group (Maximum bidding)\n",
    "control_df = pd.read_excel (\"ab_testingHM1.xlsx\",sheet_name=\"Control Group\")"
   ]
  },
  {
   "cell_type": "code",
   "execution_count": 3,
   "metadata": {
    "id": "c0ab2f31"
   },
   "outputs": [],
   "source": [
    "# Test Group (Average_bidding)\n",
    "test_df = pd.read_excel (\"ab_testingHM1.xlsx\",sheet_name=\"Test Group\")"
   ]
  },
  {
   "cell_type": "code",
   "execution_count": 4,
   "metadata": {
    "id": "d0a57e4b"
   },
   "outputs": [
    {
     "data": {
      "text/plain": [
       "(40, 4)"
      ]
     },
     "execution_count": 4,
     "metadata": {},
     "output_type": "execute_result"
    }
   ],
   "source": [
    "control_df.shape"
   ]
  },
  {
   "cell_type": "code",
   "execution_count": 5,
   "metadata": {
    "id": "0837ccc8"
   },
   "outputs": [
    {
     "data": {
      "text/html": [
       "<div>\n",
       "<style scoped>\n",
       "    .dataframe tbody tr th:only-of-type {\n",
       "        vertical-align: middle;\n",
       "    }\n",
       "\n",
       "    .dataframe tbody tr th {\n",
       "        vertical-align: top;\n",
       "    }\n",
       "\n",
       "    .dataframe thead th {\n",
       "        text-align: right;\n",
       "    }\n",
       "</style>\n",
       "<table border=\"1\" class=\"dataframe\">\n",
       "  <thead>\n",
       "    <tr style=\"text-align: right;\">\n",
       "      <th></th>\n",
       "      <th>Impression</th>\n",
       "      <th>Click</th>\n",
       "      <th>Purchase</th>\n",
       "      <th>Earning</th>\n",
       "    </tr>\n",
       "  </thead>\n",
       "  <tbody>\n",
       "    <tr>\n",
       "      <th>0</th>\n",
       "      <td>92432</td>\n",
       "      <td>6699</td>\n",
       "      <td>1397</td>\n",
       "      <td>14328</td>\n",
       "    </tr>\n",
       "    <tr>\n",
       "      <th>1</th>\n",
       "      <td>109816</td>\n",
       "      <td>3721</td>\n",
       "      <td>662</td>\n",
       "      <td>10807</td>\n",
       "    </tr>\n",
       "    <tr>\n",
       "      <th>2</th>\n",
       "      <td>92620</td>\n",
       "      <td>4585</td>\n",
       "      <td>962</td>\n",
       "      <td>11148</td>\n",
       "    </tr>\n",
       "    <tr>\n",
       "      <th>3</th>\n",
       "      <td>123104</td>\n",
       "      <td>5402</td>\n",
       "      <td>1023</td>\n",
       "      <td>10515</td>\n",
       "    </tr>\n",
       "    <tr>\n",
       "      <th>4</th>\n",
       "      <td>121473</td>\n",
       "      <td>6587</td>\n",
       "      <td>926</td>\n",
       "      <td>9573</td>\n",
       "    </tr>\n",
       "  </tbody>\n",
       "</table>\n",
       "</div>"
      ],
      "text/plain": [
       "   Impression  Click  Purchase  Earning\n",
       "0       92432   6699      1397    14328\n",
       "1      109816   3721       662    10807\n",
       "2       92620   4585       962    11148\n",
       "3      123104   5402      1023    10515\n",
       "4      121473   6587       926     9573"
      ]
     },
     "execution_count": 5,
     "metadata": {},
     "output_type": "execute_result"
    }
   ],
   "source": [
    "control_df.head() #Max"
   ]
  },
  {
   "cell_type": "code",
   "execution_count": 6,
   "metadata": {
    "id": "9ef4a2ee"
   },
   "outputs": [
    {
     "data": {
      "text/plain": [
       "0.07379224272679906"
      ]
     },
     "execution_count": 6,
     "metadata": {},
     "output_type": "execute_result"
    }
   ],
   "source": [
    "6090/82529     # Conversion Rate (Donusum Orani)"
   ]
  },
  {
   "cell_type": "code",
   "execution_count": 7,
   "metadata": {
    "id": "3cfedbab"
   },
   "outputs": [
    {
     "data": {
      "text/plain": [
       "0.10919540229885058"
      ]
     },
     "execution_count": 7,
     "metadata": {},
     "output_type": "execute_result"
    }
   ],
   "source": [
    "665/6090"
   ]
  },
  {
   "cell_type": "code",
   "execution_count": 8,
   "metadata": {
    "id": "50840850"
   },
   "outputs": [
    {
     "data": {
      "text/plain": [
       "0.008057773631087254"
      ]
     },
     "execution_count": 8,
     "metadata": {},
     "output_type": "execute_result"
    }
   ],
   "source": [
    "665/82529"
   ]
  },
  {
   "cell_type": "code",
   "execution_count": 9,
   "metadata": {
    "id": "0e3af168"
   },
   "outputs": [
    {
     "data": {
      "image/png": "[encoded data removed]",
      "text/plain": [
       "<Figure size 432x288 with 1 Axes>"
      ]
     },
     "metadata": {
      "needs_background": "light"
     },
     "output_type": "display_data"
    }
   ],
   "source": [
    "sns.distplot (control_df[\"Purchase\"], hist=False)  # Normal dağılımın grafiksel gözlemlenmesi\n",
    "plt.show ();"
   ]
  },
  {
   "cell_type": "code",
   "execution_count": 10,
   "metadata": {
    "id": "26a3a2de"
   },
   "outputs": [
    {
     "data": {
      "text/plain": [
       "(40, 4)"
      ]
     },
     "execution_count": 10,
     "metadata": {},
     "output_type": "execute_result"
    }
   ],
   "source": [
    "test_df.shape"
   ]
  },
  {
   "cell_type": "code",
   "execution_count": 11,
   "metadata": {
    "id": "0700d96a"
   },
   "outputs": [
    {
     "data": {
      "text/html": [
       "<div>\n",
       "<style scoped>\n",
       "    .dataframe tbody tr th:only-of-type {\n",
       "        vertical-align: middle;\n",
       "    }\n",
       "\n",
       "    .dataframe tbody tr th {\n",
       "        vertical-align: top;\n",
       "    }\n",
       "\n",
       "    .dataframe thead th {\n",
       "        text-align: right;\n",
       "    }\n",
       "</style>\n",
       "<table border=\"1\" class=\"dataframe\">\n",
       "  <thead>\n",
       "    <tr style=\"text-align: right;\">\n",
       "      <th></th>\n",
       "      <th>Impression</th>\n",
       "      <th>Click</th>\n",
       "      <th>Purchase</th>\n",
       "      <th>Earning</th>\n",
       "    </tr>\n",
       "  </thead>\n",
       "  <tbody>\n",
       "    <tr>\n",
       "      <th>0</th>\n",
       "      <td>92432</td>\n",
       "      <td>6699</td>\n",
       "      <td>1397</td>\n",
       "      <td>14328</td>\n",
       "    </tr>\n",
       "    <tr>\n",
       "      <th>1</th>\n",
       "      <td>109816</td>\n",
       "      <td>3721</td>\n",
       "      <td>662</td>\n",
       "      <td>10807</td>\n",
       "    </tr>\n",
       "    <tr>\n",
       "      <th>2</th>\n",
       "      <td>92620</td>\n",
       "      <td>4585</td>\n",
       "      <td>962</td>\n",
       "      <td>11148</td>\n",
       "    </tr>\n",
       "    <tr>\n",
       "      <th>3</th>\n",
       "      <td>123104</td>\n",
       "      <td>5402</td>\n",
       "      <td>1023</td>\n",
       "      <td>10515</td>\n",
       "    </tr>\n",
       "    <tr>\n",
       "      <th>4</th>\n",
       "      <td>121473</td>\n",
       "      <td>6587</td>\n",
       "      <td>926</td>\n",
       "      <td>9573</td>\n",
       "    </tr>\n",
       "  </tbody>\n",
       "</table>\n",
       "</div>"
      ],
      "text/plain": [
       "   Impression  Click  Purchase  Earning\n",
       "0       92432   6699      1397    14328\n",
       "1      109816   3721       662    10807\n",
       "2       92620   4585       962    11148\n",
       "3      123104   5402      1023    10515\n",
       "4      121473   6587       926     9573"
      ]
     },
     "execution_count": 11,
     "metadata": {},
     "output_type": "execute_result"
    }
   ],
   "source": [
    "control_df.head() #Max Bidding"
   ]
  },
  {
   "cell_type": "code",
   "execution_count": 12,
   "metadata": {
    "id": "c0a74f0a"
   },
   "outputs": [
    {
     "data": {
      "text/html": [
       "<div>\n",
       "<style scoped>\n",
       "    .dataframe tbody tr th:only-of-type {\n",
       "        vertical-align: middle;\n",
       "    }\n",
       "\n",
       "    .dataframe tbody tr th {\n",
       "        vertical-align: top;\n",
       "    }\n",
       "\n",
       "    .dataframe thead th {\n",
       "        text-align: right;\n",
       "    }\n",
       "</style>\n",
       "<table border=\"1\" class=\"dataframe\">\n",
       "  <thead>\n",
       "    <tr style=\"text-align: right;\">\n",
       "      <th></th>\n",
       "      <th>Impression</th>\n",
       "      <th>Click</th>\n",
       "      <th>Purchase</th>\n",
       "      <th>Earning</th>\n",
       "    </tr>\n",
       "  </thead>\n",
       "  <tbody>\n",
       "    <tr>\n",
       "      <th>0</th>\n",
       "      <td>138120</td>\n",
       "      <td>3153</td>\n",
       "      <td>1439</td>\n",
       "      <td>11834</td>\n",
       "    </tr>\n",
       "    <tr>\n",
       "      <th>1</th>\n",
       "      <td>154992</td>\n",
       "      <td>3562</td>\n",
       "      <td>1710</td>\n",
       "      <td>17867</td>\n",
       "    </tr>\n",
       "    <tr>\n",
       "      <th>2</th>\n",
       "      <td>123978</td>\n",
       "      <td>2996</td>\n",
       "      <td>867</td>\n",
       "      <td>15409</td>\n",
       "    </tr>\n",
       "    <tr>\n",
       "      <th>3</th>\n",
       "      <td>133912</td>\n",
       "      <td>4557</td>\n",
       "      <td>879</td>\n",
       "      <td>13914</td>\n",
       "    </tr>\n",
       "    <tr>\n",
       "      <th>4</th>\n",
       "      <td>166845</td>\n",
       "      <td>5097</td>\n",
       "      <td>1538</td>\n",
       "      <td>16970</td>\n",
       "    </tr>\n",
       "  </tbody>\n",
       "</table>\n",
       "</div>"
      ],
      "text/plain": [
       "   Impression  Click  Purchase  Earning\n",
       "0      138120   3153      1439    11834\n",
       "1      154992   3562      1710    17867\n",
       "2      123978   2996       867    15409\n",
       "3      133912   4557       879    13914\n",
       "4      166845   5097      1538    16970"
      ]
     },
     "execution_count": 12,
     "metadata": {},
     "output_type": "execute_result"
    }
   ],
   "source": [
    "test_df.head() #Average Bidding"
   ]
  },
  {
   "cell_type": "code",
   "execution_count": 13,
   "metadata": {
    "id": "eaeee162"
   },
   "outputs": [
    {
     "data": {
      "text/plain": [
       "0.2182157289400062"
      ]
     },
     "execution_count": 13,
     "metadata": {},
     "output_type": "execute_result"
    }
   ],
   "source": [
    "702/3217"
   ]
  },
  {
   "cell_type": "code",
   "execution_count": 14,
   "metadata": {
    "id": "58c2edb7"
   },
   "outputs": [
    {
     "data": {
      "image/png": "[encoded data removed]",
      "text/plain": [
       "<Figure size 432x288 with 1 Axes>"
      ]
     },
     "metadata": {
      "needs_background": "light"
     },
     "output_type": "display_data"
    }
   ],
   "source": [
    "sns.distplot (test_df[\"Purchase\"], hist=False)  # Normal dağılımın grafiksel gözlemlenmesi\n",
    "plt.show ();"
   ]
  },
  {
   "cell_type": "code",
   "execution_count": 15,
   "metadata": {
    "id": "ef9da006"
   },
   "outputs": [],
   "source": [
    "control_df[\"Earning_Per_Click\"] = control_df[\"Earning\"] / control_df[\"Click\"]"
   ]
  },
  {
   "cell_type": "code",
   "execution_count": 16,
   "metadata": {
    "colab": {
     "base_uri": "https://localhost:8080/",
     "height": 165
    },
    "executionInfo": {
     "elapsed": 287,
     "status": "error",
     "timestamp": 1667059466428,
     "user": {
      "displayName": "Merve Tuğçe Musaoğlu",
      "userId": "17830071718935487314"
     },
     "user_tz": -180
    },
    "id": "64c0ecc9",
    "outputId": "e1cbe61e-e6dd-430b-b2b9-8fb0292e1769"
   },
   "outputs": [
    {
     "data": {
      "text/html": [
       "<div>\n",
       "<style scoped>\n",
       "    .dataframe tbody tr th:only-of-type {\n",
       "        vertical-align: middle;\n",
       "    }\n",
       "\n",
       "    .dataframe tbody tr th {\n",
       "        vertical-align: top;\n",
       "    }\n",
       "\n",
       "    .dataframe thead th {\n",
       "        text-align: right;\n",
       "    }\n",
       "</style>\n",
       "<table border=\"1\" class=\"dataframe\">\n",
       "  <thead>\n",
       "    <tr style=\"text-align: right;\">\n",
       "      <th></th>\n",
       "      <th>Impression</th>\n",
       "      <th>Click</th>\n",
       "      <th>Purchase</th>\n",
       "      <th>Earning</th>\n",
       "      <th>Earning_Per_Click</th>\n",
       "    </tr>\n",
       "  </thead>\n",
       "  <tbody>\n",
       "    <tr>\n",
       "      <th>0</th>\n",
       "      <td>92432</td>\n",
       "      <td>6699</td>\n",
       "      <td>1397</td>\n",
       "      <td>14328</td>\n",
       "      <td>2.138827</td>\n",
       "    </tr>\n",
       "    <tr>\n",
       "      <th>1</th>\n",
       "      <td>109816</td>\n",
       "      <td>3721</td>\n",
       "      <td>662</td>\n",
       "      <td>10807</td>\n",
       "      <td>2.904327</td>\n",
       "    </tr>\n",
       "    <tr>\n",
       "      <th>2</th>\n",
       "      <td>92620</td>\n",
       "      <td>4585</td>\n",
       "      <td>962</td>\n",
       "      <td>11148</td>\n",
       "      <td>2.431407</td>\n",
       "    </tr>\n",
       "    <tr>\n",
       "      <th>3</th>\n",
       "      <td>123104</td>\n",
       "      <td>5402</td>\n",
       "      <td>1023</td>\n",
       "      <td>10515</td>\n",
       "      <td>1.946501</td>\n",
       "    </tr>\n",
       "    <tr>\n",
       "      <th>4</th>\n",
       "      <td>121473</td>\n",
       "      <td>6587</td>\n",
       "      <td>926</td>\n",
       "      <td>9573</td>\n",
       "      <td>1.453317</td>\n",
       "    </tr>\n",
       "  </tbody>\n",
       "</table>\n",
       "</div>"
      ],
      "text/plain": [
       "   Impression  Click  Purchase  Earning  Earning_Per_Click\n",
       "0       92432   6699      1397    14328           2.138827\n",
       "1      109816   3721       662    10807           2.904327\n",
       "2       92620   4585       962    11148           2.431407\n",
       "3      123104   5402      1023    10515           1.946501\n",
       "4      121473   6587       926     9573           1.453317"
      ]
     },
     "execution_count": 16,
     "metadata": {},
     "output_type": "execute_result"
    }
   ],
   "source": [
    "control_df.head()"
   ]
  },
  {
   "cell_type": "code",
   "execution_count": 17,
   "metadata": {
    "colab": {
     "base_uri": "https://localhost:8080/",
     "height": 165
    },
    "executionInfo": {
     "elapsed": 275,
     "status": "error",
     "timestamp": 1667059463473,
     "user": {
      "displayName": "Merve Tuğçe Musaoğlu",
      "userId": "17830071718935487314"
     },
     "user_tz": -180
    },
    "id": "361b907b",
    "outputId": "da411c1c-8b83-4be9-b094-1ec08de20c1f"
   },
   "outputs": [],
   "source": [
    "test_df[\"Earning_Per_Click\"] = test_df[\"Earning\"] / test_df[\"Click\"]"
   ]
  },
  {
   "cell_type": "code",
   "execution_count": 18,
   "metadata": {
    "id": "c84d58aa"
   },
   "outputs": [
    {
     "data": {
      "text/html": [
       "<div>\n",
       "<style scoped>\n",
       "    .dataframe tbody tr th:only-of-type {\n",
       "        vertical-align: middle;\n",
       "    }\n",
       "\n",
       "    .dataframe tbody tr th {\n",
       "        vertical-align: top;\n",
       "    }\n",
       "\n",
       "    .dataframe thead th {\n",
       "        text-align: right;\n",
       "    }\n",
       "</style>\n",
       "<table border=\"1\" class=\"dataframe\">\n",
       "  <thead>\n",
       "    <tr style=\"text-align: right;\">\n",
       "      <th></th>\n",
       "      <th>Impression</th>\n",
       "      <th>Click</th>\n",
       "      <th>Purchase</th>\n",
       "      <th>Earning</th>\n",
       "      <th>Earning_Per_Click</th>\n",
       "    </tr>\n",
       "  </thead>\n",
       "  <tbody>\n",
       "    <tr>\n",
       "      <th>0</th>\n",
       "      <td>138120</td>\n",
       "      <td>3153</td>\n",
       "      <td>1439</td>\n",
       "      <td>11834</td>\n",
       "      <td>3.753251</td>\n",
       "    </tr>\n",
       "    <tr>\n",
       "      <th>1</th>\n",
       "      <td>154992</td>\n",
       "      <td>3562</td>\n",
       "      <td>1710</td>\n",
       "      <td>17867</td>\n",
       "      <td>5.016002</td>\n",
       "    </tr>\n",
       "    <tr>\n",
       "      <th>2</th>\n",
       "      <td>123978</td>\n",
       "      <td>2996</td>\n",
       "      <td>867</td>\n",
       "      <td>15409</td>\n",
       "      <td>5.143191</td>\n",
       "    </tr>\n",
       "    <tr>\n",
       "      <th>3</th>\n",
       "      <td>133912</td>\n",
       "      <td>4557</td>\n",
       "      <td>879</td>\n",
       "      <td>13914</td>\n",
       "      <td>3.053325</td>\n",
       "    </tr>\n",
       "    <tr>\n",
       "      <th>4</th>\n",
       "      <td>166845</td>\n",
       "      <td>5097</td>\n",
       "      <td>1538</td>\n",
       "      <td>16970</td>\n",
       "      <td>3.329409</td>\n",
       "    </tr>\n",
       "  </tbody>\n",
       "</table>\n",
       "</div>"
      ],
      "text/plain": [
       "   Impression  Click  Purchase  Earning  Earning_Per_Click\n",
       "0      138120   3153      1439    11834           3.753251\n",
       "1      154992   3562      1710    17867           5.016002\n",
       "2      123978   2996       867    15409           5.143191\n",
       "3      133912   4557       879    13914           3.053325\n",
       "4      166845   5097      1538    16970           3.329409"
      ]
     },
     "execution_count": 18,
     "metadata": {},
     "output_type": "execute_result"
    }
   ],
   "source": [
    "test_df.head()"
   ]
  },
  {
   "cell_type": "code",
   "execution_count": 19,
   "metadata": {
    "id": "247eea95"
   },
   "outputs": [
    {
     "data": {
      "text/html": [
       "<div>\n",
       "<style scoped>\n",
       "    .dataframe tbody tr th:only-of-type {\n",
       "        vertical-align: middle;\n",
       "    }\n",
       "\n",
       "    .dataframe tbody tr th {\n",
       "        vertical-align: top;\n",
       "    }\n",
       "\n",
       "    .dataframe thead th {\n",
       "        text-align: right;\n",
       "    }\n",
       "</style>\n",
       "<table border=\"1\" class=\"dataframe\">\n",
       "  <thead>\n",
       "    <tr style=\"text-align: right;\">\n",
       "      <th></th>\n",
       "      <th>Impression</th>\n",
       "      <th>Click</th>\n",
       "      <th>Purchase</th>\n",
       "      <th>Earning</th>\n",
       "      <th>Earning_Per_Click</th>\n",
       "    </tr>\n",
       "  </thead>\n",
       "  <tbody>\n",
       "    <tr>\n",
       "      <th>0</th>\n",
       "      <td>138120</td>\n",
       "      <td>3153</td>\n",
       "      <td>1439</td>\n",
       "      <td>11834</td>\n",
       "      <td>3.753251</td>\n",
       "    </tr>\n",
       "    <tr>\n",
       "      <th>1</th>\n",
       "      <td>154992</td>\n",
       "      <td>3562</td>\n",
       "      <td>1710</td>\n",
       "      <td>17867</td>\n",
       "      <td>5.016002</td>\n",
       "    </tr>\n",
       "    <tr>\n",
       "      <th>2</th>\n",
       "      <td>123978</td>\n",
       "      <td>2996</td>\n",
       "      <td>867</td>\n",
       "      <td>15409</td>\n",
       "      <td>5.143191</td>\n",
       "    </tr>\n",
       "    <tr>\n",
       "      <th>3</th>\n",
       "      <td>133912</td>\n",
       "      <td>4557</td>\n",
       "      <td>879</td>\n",
       "      <td>13914</td>\n",
       "      <td>3.053325</td>\n",
       "    </tr>\n",
       "    <tr>\n",
       "      <th>4</th>\n",
       "      <td>166845</td>\n",
       "      <td>5097</td>\n",
       "      <td>1538</td>\n",
       "      <td>16970</td>\n",
       "      <td>3.329409</td>\n",
       "    </tr>\n",
       "  </tbody>\n",
       "</table>\n",
       "</div>"
      ],
      "text/plain": [
       "   Impression  Click  Purchase  Earning  Earning_Per_Click\n",
       "0      138120   3153      1439    11834           3.753251\n",
       "1      154992   3562      1710    17867           5.016002\n",
       "2      123978   2996       867    15409           5.143191\n",
       "3      133912   4557       879    13914           3.053325\n",
       "4      166845   5097      1538    16970           3.329409"
      ]
     },
     "execution_count": 19,
     "metadata": {},
     "output_type": "execute_result"
    }
   ],
   "source": [
    "# Another Way with for loop\n",
    "\n",
    "# Test ve Control Grubu için Earning/Click Değişkeninin Türetilmesi\n",
    "# click basina saglanan kazanc\n",
    "groups = [control_df, test_df]\n",
    "\n",
    "for group in groups:\n",
    "    group[\"Earning_Per_Click\"] = group[\"Earning\"] / group[\"Click\"]\n",
    "\n",
    "control_df.head ()\n",
    "test_df.head ()"
   ]
  },
  {
   "cell_type": "code",
   "execution_count": 20,
   "metadata": {
    "id": "787ea35b"
   },
   "outputs": [
    {
     "data": {
      "text/plain": [
       "count     40.000000\n",
       "mean    1157.000000\n",
       "std      281.581705\n",
       "min      561.000000\n",
       "25%      988.000000\n",
       "50%     1116.000000\n",
       "75%     1340.000000\n",
       "max     1684.000000\n",
       "Name: Purchase, dtype: float64"
      ]
     },
     "execution_count": 20,
     "metadata": {},
     "output_type": "execute_result"
    }
   ],
   "source": [
    "control_df[\"Purchase\"].describe ()"
   ]
  },
  {
   "cell_type": "code",
   "execution_count": 21,
   "metadata": {
    "id": "4161fde3"
   },
   "outputs": [
    {
     "data": {
      "text/plain": [
       "count     40.000000\n",
       "mean    1193.300000\n",
       "std      330.424917\n",
       "min      640.000000\n",
       "25%      912.000000\n",
       "50%     1130.000000\n",
       "75%     1434.500000\n",
       "max     1825.000000\n",
       "Name: Purchase, dtype: float64"
      ]
     },
     "execution_count": 21,
     "metadata": {},
     "output_type": "execute_result"
    }
   ],
   "source": [
    "test_df[\"Purchase\"].describe ()"
   ]
  },
  {
   "cell_type": "code",
   "execution_count": 22,
   "metadata": {
    "id": "62246d9c"
   },
   "outputs": [],
   "source": [
    "# İki Grubun Purchase ve Earning Betimsel İstatistiklerinin Karşılaştırılması\n",
    "desc_compare_df = pd.DataFrame ({\"Control_Purchase\": control_df[\"Purchase\"].describe (),\n",
    "                                 \"Test_Purchase\": test_df[\"Purchase\"].describe ()})"
   ]
  },
  {
   "cell_type": "code",
   "execution_count": 23,
   "metadata": {
    "id": "9fb08aca"
   },
   "outputs": [
    {
     "data": {
      "text/html": [
       "<div>\n",
       "<style scoped>\n",
       "    .dataframe tbody tr th:only-of-type {\n",
       "        vertical-align: middle;\n",
       "    }\n",
       "\n",
       "    .dataframe tbody tr th {\n",
       "        vertical-align: top;\n",
       "    }\n",
       "\n",
       "    .dataframe thead th {\n",
       "        text-align: right;\n",
       "    }\n",
       "</style>\n",
       "<table border=\"1\" class=\"dataframe\">\n",
       "  <thead>\n",
       "    <tr style=\"text-align: right;\">\n",
       "      <th></th>\n",
       "      <th>Control_Purchase</th>\n",
       "      <th>Test_Purchase</th>\n",
       "    </tr>\n",
       "  </thead>\n",
       "  <tbody>\n",
       "    <tr>\n",
       "      <th>count</th>\n",
       "      <td>40.000000</td>\n",
       "      <td>40.000000</td>\n",
       "    </tr>\n",
       "    <tr>\n",
       "      <th>mean</th>\n",
       "      <td>1157.000000</td>\n",
       "      <td>1193.300000</td>\n",
       "    </tr>\n",
       "    <tr>\n",
       "      <th>std</th>\n",
       "      <td>281.581705</td>\n",
       "      <td>330.424917</td>\n",
       "    </tr>\n",
       "    <tr>\n",
       "      <th>min</th>\n",
       "      <td>561.000000</td>\n",
       "      <td>640.000000</td>\n",
       "    </tr>\n",
       "    <tr>\n",
       "      <th>25%</th>\n",
       "      <td>988.000000</td>\n",
       "      <td>912.000000</td>\n",
       "    </tr>\n",
       "    <tr>\n",
       "      <th>50%</th>\n",
       "      <td>1116.000000</td>\n",
       "      <td>1130.000000</td>\n",
       "    </tr>\n",
       "    <tr>\n",
       "      <th>75%</th>\n",
       "      <td>1340.000000</td>\n",
       "      <td>1434.500000</td>\n",
       "    </tr>\n",
       "    <tr>\n",
       "      <th>max</th>\n",
       "      <td>1684.000000</td>\n",
       "      <td>1825.000000</td>\n",
       "    </tr>\n",
       "  </tbody>\n",
       "</table>\n",
       "</div>"
      ],
      "text/plain": [
       "       Control_Purchase  Test_Purchase\n",
       "count         40.000000      40.000000\n",
       "mean        1157.000000    1193.300000\n",
       "std          281.581705     330.424917\n",
       "min          561.000000     640.000000\n",
       "25%          988.000000     912.000000\n",
       "50%         1116.000000    1130.000000\n",
       "75%         1340.000000    1434.500000\n",
       "max         1684.000000    1825.000000"
      ]
     },
     "execution_count": 23,
     "metadata": {},
     "output_type": "execute_result"
    }
   ],
   "source": [
    "# Test grubunun ortalaması ve medyanı yüksek olmasına rağmen, \n",
    "#   standart sapması da yüksek olduğundan anlamlı bir farklılık olup olmadığını kontrol edelim.\n",
    "desc_compare_df  "
   ]
  },
  {
   "cell_type": "code",
   "execution_count": 24,
   "metadata": {},
   "outputs": [
    {
     "data": {
      "text/html": [
       "<div>\n",
       "<style scoped>\n",
       "    .dataframe tbody tr th:only-of-type {\n",
       "        vertical-align: middle;\n",
       "    }\n",
       "\n",
       "    .dataframe tbody tr th {\n",
       "        vertical-align: top;\n",
       "    }\n",
       "\n",
       "    .dataframe thead th {\n",
       "        text-align: right;\n",
       "    }\n",
       "</style>\n",
       "<table border=\"1\" class=\"dataframe\">\n",
       "  <thead>\n",
       "    <tr style=\"text-align: right;\">\n",
       "      <th></th>\n",
       "      <th>Control_Earning</th>\n",
       "      <th>Test_Earning</th>\n",
       "    </tr>\n",
       "  </thead>\n",
       "  <tbody>\n",
       "    <tr>\n",
       "      <th>count</th>\n",
       "      <td>40.000000</td>\n",
       "      <td>40.000000</td>\n",
       "    </tr>\n",
       "    <tr>\n",
       "      <th>mean</th>\n",
       "      <td>11833.050000</td>\n",
       "      <td>15341.100000</td>\n",
       "    </tr>\n",
       "    <tr>\n",
       "      <th>std</th>\n",
       "      <td>1877.742452</td>\n",
       "      <td>1724.485353</td>\n",
       "    </tr>\n",
       "    <tr>\n",
       "      <th>min</th>\n",
       "      <td>7775.000000</td>\n",
       "      <td>11834.000000</td>\n",
       "    </tr>\n",
       "    <tr>\n",
       "      <th>25%</th>\n",
       "      <td>10451.500000</td>\n",
       "      <td>13909.500000</td>\n",
       "    </tr>\n",
       "    <tr>\n",
       "      <th>50%</th>\n",
       "      <td>12245.000000</td>\n",
       "      <td>15521.500000</td>\n",
       "    </tr>\n",
       "    <tr>\n",
       "      <th>75%</th>\n",
       "      <td>13143.750000</td>\n",
       "      <td>16847.000000</td>\n",
       "    </tr>\n",
       "    <tr>\n",
       "      <th>max</th>\n",
       "      <td>15481.000000</td>\n",
       "      <td>19343.000000</td>\n",
       "    </tr>\n",
       "  </tbody>\n",
       "</table>\n",
       "</div>"
      ],
      "text/plain": [
       "       Control_Earning  Test_Earning\n",
       "count        40.000000     40.000000\n",
       "mean      11833.050000  15341.100000\n",
       "std        1877.742452   1724.485353\n",
       "min        7775.000000  11834.000000\n",
       "25%       10451.500000  13909.500000\n",
       "50%       12245.000000  15521.500000\n",
       "75%       13143.750000  16847.000000\n",
       "max       15481.000000  19343.000000"
      ]
     },
     "execution_count": 24,
     "metadata": {},
     "output_type": "execute_result"
    }
   ],
   "source": [
    "earning_df = pd.DataFrame ({\"Control_Earning\": control_df[\"Earning\"].describe (),\n",
    "                            \"Test_Earning\": test_df[\"Earning\"].describe ()})\n",
    "earning_df"
   ]
  },
  {
   "cell_type": "markdown",
   "metadata": {},
   "source": [
    "### Confidence Interval Evaluation"
   ]
  },
  {
   "cell_type": "code",
   "execution_count": 25,
   "metadata": {
    "id": "6e74dc68"
   },
   "outputs": [
    {
     "data": {
      "text/plain": [
       "(1066.945802334159, 1247.054197665841)"
      ]
     },
     "execution_count": 25,
     "metadata": {},
     "output_type": "execute_result"
    }
   ],
   "source": [
    "# Güven Aralığı Değerlendirmesi\n",
    "\n",
    "sms.DescrStatsW (control_df[\"Purchase\"]).tconfint_mean ()\n",
    "\n",
    "# (508.0041754264924, 593.7839421139709) Kontrol grubu %95 güven aralığı değerleri"
   ]
  },
  {
   "cell_type": "code",
   "execution_count": 26,
   "metadata": {
    "id": "6d4436c5"
   },
   "outputs": [
    {
     "data": {
      "text/plain": [
       "(1087.6249853362629, 1298.975014663737)"
      ]
     },
     "execution_count": 26,
     "metadata": {},
     "output_type": "execute_result"
    }
   ],
   "source": [
    "sms.DescrStatsW (test_df[\"Purchase\"]).tconfint_mean ()\n",
    "\n",
    "# (530.5670226990062, 633.6451705979289) Test grubu %95 güven aralığı değerleri"
   ]
  },
  {
   "cell_type": "code",
   "execution_count": 29,
   "metadata": {
    "id": "5ba83467"
   },
   "outputs": [
    {
     "data": {
      "text/plain": [
       "0    1397\n",
       "1     662\n",
       "2     962\n",
       "3    1023\n",
       "4     926\n",
       "Name: Purchase, dtype: int64"
      ]
     },
     "execution_count": 29,
     "metadata": {},
     "output_type": "execute_result"
    }
   ],
   "source": [
    "control_df[\"Purchase\"].head()"
   ]
  },
  {
   "cell_type": "code",
   "execution_count": 30,
   "metadata": {
    "id": "9ac6cbff"
   },
   "outputs": [
    {
     "data": {
      "text/plain": [
       "(11232.518832271664, 12433.581167728335)"
      ]
     },
     "execution_count": 30,
     "metadata": {},
     "output_type": "execute_result"
    }
   ],
   "source": [
    "# Güven Aralığı Değerlendirmesi\n",
    "sms.DescrStatsW (control_df[\"Earning\"]).tconfint_mean ()"
   ]
  },
  {
   "cell_type": "code",
   "execution_count": 31,
   "metadata": {
    "id": "65433cf3"
   },
   "outputs": [
    {
     "data": {
      "text/plain": [
       "(14789.582830076393, 15892.617169923607)"
      ]
     },
     "execution_count": 31,
     "metadata": {},
     "output_type": "execute_result"
    }
   ],
   "source": [
    "sms.DescrStatsW (test_df[\"Earning\"]).tconfint_mean ()"
   ]
  },
  {
   "cell_type": "markdown",
   "metadata": {},
   "source": [
    "### ASSUMPTION CONTROL OF NORMALITY"
   ]
  },
  {
   "cell_type": "code",
   "execution_count": 32,
   "metadata": {
    "id": "4f8a0b28"
   },
   "outputs": [],
   "source": [
    "# NORMALLIK VARSAYIMI KONTROLÜ\n",
    "# H0 : Teorik normal dağılım ile örneklem normal dağılımı arasında istatistiksel olarak anlamlı bir fark yoktur.\n",
    "# H1 : Teorik normal dağılım ile örneklem normal dağılımı arasında istatistiksel olarak anlamlı bir fark vardır.\n",
    "# p_value değeri 0.05'ten küçük ise H0 reddedilir."
   ]
  },
  {
   "cell_type": "code",
   "execution_count": 33,
   "metadata": {
    "id": "b1962cfb"
   },
   "outputs": [],
   "source": [
    "from scipy.stats import shapiro"
   ]
  },
  {
   "cell_type": "code",
   "execution_count": 34,
   "metadata": {
    "id": "6f6402a4"
   },
   "outputs": [],
   "source": [
    "p_value_threshold = 0.05"
   ]
  },
  {
   "cell_type": "code",
   "execution_count": 35,
   "metadata": {
    "id": "5171b5c3"
   },
   "outputs": [
    {
     "data": {
      "text/plain": [
       "Index(['Impression', 'Click', 'Purchase', 'Earning', 'Earning_Per_Click'], dtype='object')"
      ]
     },
     "execution_count": 35,
     "metadata": {},
     "output_type": "execute_result"
    }
   ],
   "source": [
    "control_df.columns"
   ]
  },
  {
   "cell_type": "code",
   "execution_count": 36,
   "metadata": {
    "id": "3c5d24d3"
   },
   "outputs": [
    {
     "data": {
      "text/plain": [
       "ShapiroResult(statistic=0.9696733951568604, pvalue=0.35142433643341064)"
      ]
     },
     "execution_count": 36,
     "metadata": {},
     "output_type": "execute_result"
    }
   ],
   "source": [
    "shapiro (control_df['Impression'])"
   ]
  },
  {
   "cell_type": "code",
   "execution_count": 37,
   "metadata": {
    "id": "d0050506"
   },
   "outputs": [],
   "source": [
    "ttest, p_value = shapiro (control_df['Impression']) # Trick"
   ]
  },
  {
   "cell_type": "code",
   "execution_count": 38,
   "metadata": {
    "id": "0e7050b2"
   },
   "outputs": [
    {
     "data": {
      "text/plain": [
       "0.9696733951568604"
      ]
     },
     "execution_count": 38,
     "metadata": {},
     "output_type": "execute_result"
    }
   ],
   "source": [
    "ttest"
   ]
  },
  {
   "cell_type": "code",
   "execution_count": 39,
   "metadata": {
    "id": "5b2204c3"
   },
   "outputs": [
    {
     "data": {
      "text/plain": [
       "0.35142433643341064"
      ]
     },
     "execution_count": 39,
     "metadata": {},
     "output_type": "execute_result"
    }
   ],
   "source": [
    "p_value"
   ]
  },
  {
   "cell_type": "code",
   "execution_count": 40,
   "metadata": {
    "id": "ce9e0ffd"
   },
   "outputs": [
    {
     "name": "stdout",
     "output_type": "stream",
     "text": [
      "Normal\n"
     ]
    }
   ],
   "source": [
    "if p_value >= p_value_threshold:\n",
    "    print (\"Normal\")\n",
    "else:\n",
    "    print (\"Abnormal\")"
   ]
  },
  {
   "cell_type": "code",
   "execution_count": 41,
   "metadata": {
    "id": "9358f159"
   },
   "outputs": [],
   "source": [
    "distribution_list = (\"Normal\")"
   ]
  },
  {
   "cell_type": "code",
   "execution_count": 42,
   "metadata": {
    "id": "b5bd8c6e"
   },
   "outputs": [
    {
     "data": {
      "text/html": [
       "<div>\n",
       "<style scoped>\n",
       "    .dataframe tbody tr th:only-of-type {\n",
       "        vertical-align: middle;\n",
       "    }\n",
       "\n",
       "    .dataframe tbody tr th {\n",
       "        vertical-align: top;\n",
       "    }\n",
       "\n",
       "    .dataframe thead th {\n",
       "        text-align: right;\n",
       "    }\n",
       "</style>\n",
       "<table border=\"1\" class=\"dataframe\">\n",
       "  <thead>\n",
       "    <tr style=\"text-align: right;\">\n",
       "      <th></th>\n",
       "      <th>P_Value</th>\n",
       "      <th>Distribution</th>\n",
       "    </tr>\n",
       "  </thead>\n",
       "  <tbody>\n",
       "    <tr>\n",
       "      <th>Impression</th>\n",
       "      <td>0.351424</td>\n",
       "      <td>Normal</td>\n",
       "    </tr>\n",
       "  </tbody>\n",
       "</table>\n",
       "</div>"
      ],
      "text/plain": [
       "            P_Value Distribution\n",
       "Impression 0.351424       Normal"
      ]
     },
     "execution_count": 42,
     "metadata": {},
     "output_type": "execute_result"
    }
   ],
   "source": [
    "pd.DataFrame(index=['Impression'], data={\"P_Value\": p_value, \"Distribution\": distribution_list})"
   ]
  },
  {
   "cell_type": "markdown",
   "metadata": {
    "id": "de713a7a"
   },
   "source": [
    "### Automation - Normality Function"
   ]
  },
  {
   "cell_type": "code",
   "execution_count": 43,
   "metadata": {
    "id": "dc0461e9"
   },
   "outputs": [],
   "source": [
    "def normality_func(dataframe):\n",
    "    from scipy.stats import shapiro\n",
    "    p_value_threshold = 0.05\n",
    "    p_value_list = []\n",
    "    distribution_list = []\n",
    "    normal_list = []\n",
    "    abnormal_list = []\n",
    "    for col in dataframe.columns:\n",
    "        ttest, p_value = shapiro (dataframe[col])\n",
    "        p_value_list.append (p_value)\n",
    "        if p_value >= p_value_threshold:\n",
    "            distribution_list.append (\"Normal\")\n",
    "            normal_list.append (col)\n",
    "        else:\n",
    "            distribution_list.append (\"Abnormal\")\n",
    "            abnormal_list.append (col)\n",
    "\n",
    "    new_df = pd.DataFrame (index=dataframe.columns, data={\"P_Value\": p_value_list, \"Distribution\": distribution_list})\n",
    "    return new_df, normal_list, abnormal_list\n",
    "\n"
   ]
  },
  {
   "cell_type": "code",
   "execution_count": 44,
   "metadata": {
    "id": "9195031c"
   },
   "outputs": [],
   "source": [
    "control_normality, control_normal_list, control_abnormal_list = normality_func (control_df)\n",
    "test_normality, test_normal_list, test_abnormal_list = normality_func (test_df)\n"
   ]
  },
  {
   "cell_type": "code",
   "execution_count": 45,
   "metadata": {
    "id": "19a35ab0"
   },
   "outputs": [
    {
     "data": {
      "text/html": [
       "<div>\n",
       "<style scoped>\n",
       "    .dataframe tbody tr th:only-of-type {\n",
       "        vertical-align: middle;\n",
       "    }\n",
       "\n",
       "    .dataframe tbody tr th {\n",
       "        vertical-align: top;\n",
       "    }\n",
       "\n",
       "    .dataframe thead th {\n",
       "        text-align: right;\n",
       "    }\n",
       "</style>\n",
       "<table border=\"1\" class=\"dataframe\">\n",
       "  <thead>\n",
       "    <tr style=\"text-align: right;\">\n",
       "      <th></th>\n",
       "      <th>P_Value</th>\n",
       "      <th>Distribution</th>\n",
       "    </tr>\n",
       "  </thead>\n",
       "  <tbody>\n",
       "    <tr>\n",
       "      <th>Impression</th>\n",
       "      <td>0.351424</td>\n",
       "      <td>Normal</td>\n",
       "    </tr>\n",
       "    <tr>\n",
       "      <th>Click</th>\n",
       "      <td>0.846129</td>\n",
       "      <td>Normal</td>\n",
       "    </tr>\n",
       "    <tr>\n",
       "      <th>Purchase</th>\n",
       "      <td>0.590674</td>\n",
       "      <td>Normal</td>\n",
       "    </tr>\n",
       "    <tr>\n",
       "      <th>Earning</th>\n",
       "      <td>0.531196</td>\n",
       "      <td>Normal</td>\n",
       "    </tr>\n",
       "    <tr>\n",
       "      <th>Earning_Per_Click</th>\n",
       "      <td>0.012829</td>\n",
       "      <td>Abnormal</td>\n",
       "    </tr>\n",
       "  </tbody>\n",
       "</table>\n",
       "</div>"
      ],
      "text/plain": [
       "                   P_Value Distribution\n",
       "Impression        0.351424       Normal\n",
       "Click             0.846129       Normal\n",
       "Purchase          0.590674       Normal\n",
       "Earning           0.531196       Normal\n",
       "Earning_Per_Click 0.012829     Abnormal"
      ]
     },
     "execution_count": 45,
     "metadata": {},
     "output_type": "execute_result"
    }
   ],
   "source": [
    "control_normality"
   ]
  },
  {
   "cell_type": "code",
   "execution_count": 46,
   "metadata": {
    "id": "be67feb6"
   },
   "outputs": [
    {
     "data": {
      "text/plain": [
       "['Impression', 'Click', 'Purchase', 'Earning']"
      ]
     },
     "execution_count": 46,
     "metadata": {},
     "output_type": "execute_result"
    }
   ],
   "source": [
    "control_normal_list"
   ]
  },
  {
   "cell_type": "code",
   "execution_count": 47,
   "metadata": {
    "id": "f65f6c27"
   },
   "outputs": [
    {
     "data": {
      "text/plain": [
       "['Earning_Per_Click']"
      ]
     },
     "execution_count": 47,
     "metadata": {},
     "output_type": "execute_result"
    }
   ],
   "source": [
    "control_abnormal_list"
   ]
  },
  {
   "cell_type": "markdown",
   "metadata": {},
   "source": [
    "### CONTROL OF VARIANCE HOMOGENEITY"
   ]
  },
  {
   "cell_type": "code",
   "execution_count": 48,
   "metadata": {
    "id": "bb3af4de"
   },
   "outputs": [
    {
     "name": "stdout",
     "output_type": "stream",
     "text": [
      "ttest istatistiği: 2.155560090094498\n",
      "p_value: 0.14607588410389435\n"
     ]
    }
   ],
   "source": [
    "# VARYANS HOMOJENLİĞİ KONTROLÜ\n",
    "\n",
    "# H0: 2 grubun ilgili değişkenlerinin varyans değişkenliği arasında istatistiksel olarak anlamlı bir farklılık yoktur.\n",
    "# H1: 2 grubun ilgili değişkenlerinin varyans değişkenliği arasında istatistiksel olarak anlamlı bir farklılık vardır.\n",
    "\n",
    "# p_value değeri 0.05'ten küçük ise H0 reddedilir.\n",
    "\n",
    "from scipy.stats import levene\n",
    "\n",
    "ttest_lev, p_value_lev = levene (control_df[\"Purchase\"], test_df[\"Purchase\"])\n",
    "print (\"ttest istatistiği: {}\\np_value: {}\".format (ttest_lev, p_value_lev))\n",
    "\n",
    "# p_value değeri 0.05'ten büyük olduğu için H0 hipotezini reddedemeyiz. \n",
    "# Dolayısıyla 2 grubun purchase değerlerinin varyans dağılımları arasında istatistiksel olarak anlamlı bir farklılık yoktur diyebiliriz.\n",
    "# Biz anlamli fark arayisindayiz.\n"
   ]
  },
  {
   "cell_type": "code",
   "execution_count": 49,
   "metadata": {
    "id": "ce113d17"
   },
   "outputs": [],
   "source": [
    "def variance_homogeneity(dataframe_control, dataframe_test):\n",
    "    from scipy.stats import levene\n",
    "    p_value_threshold = 0.05\n",
    "    p_value_list = []\n",
    "    variance_list = []\n",
    "    column_list = list (zip (sorted (dataframe_control.columns), sorted (dataframe_test.columns)))\n",
    "    features = []\n",
    "    homogeneus_list = []\n",
    "    not_homogeneus_list = []\n",
    "    for col in column_list:\n",
    "        ttest_lev, p_value_lev = levene (dataframe_control[col[0]], dataframe_test[col[1]])\n",
    "        if (col[0] == col[1]) and (p_value_lev >= p_value_threshold):\n",
    "            p_value_list.append (p_value_lev)\n",
    "            variance_list.append (\"No Difference\")\n",
    "            homogeneus_list.append (col[0])\n",
    "            features.append (col[0])\n",
    "        elif (col[0] == col[1]) and (p_value_lev < p_value_threshold):\n",
    "            p_value_list.append (p_value_lev)\n",
    "            variance_list.append (\"Different\")\n",
    "            not_homogeneus_list.append (col[0])\n",
    "            features.append (col[0])\n",
    "\n",
    "    new_df = pd.DataFrame (index=features, data={\"P_Value\": p_value_list, \"Homogeneity_of_Variance\": variance_list})\n",
    "\n",
    "    return new_df, homogeneus_list, not_homogeneus_list\n",
    "\n",
    "\n",
    "variance_df, homogeneus, not_homogeneus = variance_homogeneity (control_df, test_df)"
   ]
  },
  {
   "cell_type": "code",
   "execution_count": 50,
   "metadata": {
    "id": "df5a3067"
   },
   "outputs": [
    {
     "data": {
      "text/html": [
       "<div>\n",
       "<style scoped>\n",
       "    .dataframe tbody tr th:only-of-type {\n",
       "        vertical-align: middle;\n",
       "    }\n",
       "\n",
       "    .dataframe tbody tr th {\n",
       "        vertical-align: top;\n",
       "    }\n",
       "\n",
       "    .dataframe thead th {\n",
       "        text-align: right;\n",
       "    }\n",
       "</style>\n",
       "<table border=\"1\" class=\"dataframe\">\n",
       "  <thead>\n",
       "    <tr style=\"text-align: right;\">\n",
       "      <th></th>\n",
       "      <th>P_Value</th>\n",
       "      <th>Homogeneity_of_Variance</th>\n",
       "    </tr>\n",
       "  </thead>\n",
       "  <tbody>\n",
       "    <tr>\n",
       "      <th>Click</th>\n",
       "      <td>0.002257</td>\n",
       "      <td>Different</td>\n",
       "    </tr>\n",
       "    <tr>\n",
       "      <th>Earning</th>\n",
       "      <td>0.490996</td>\n",
       "      <td>No Difference</td>\n",
       "    </tr>\n",
       "    <tr>\n",
       "      <th>Earning_Per_Click</th>\n",
       "      <td>0.253207</td>\n",
       "      <td>No Difference</td>\n",
       "    </tr>\n",
       "    <tr>\n",
       "      <th>Impression</th>\n",
       "      <td>0.535401</td>\n",
       "      <td>No Difference</td>\n",
       "    </tr>\n",
       "    <tr>\n",
       "      <th>Purchase</th>\n",
       "      <td>0.146076</td>\n",
       "      <td>No Difference</td>\n",
       "    </tr>\n",
       "  </tbody>\n",
       "</table>\n",
       "</div>"
      ],
      "text/plain": [
       "                   P_Value Homogeneity_of_Variance\n",
       "Click             0.002257               Different\n",
       "Earning           0.490996           No Difference\n",
       "Earning_Per_Click 0.253207           No Difference\n",
       "Impression        0.535401           No Difference\n",
       "Purchase          0.146076           No Difference"
      ]
     },
     "execution_count": 50,
     "metadata": {},
     "output_type": "execute_result"
    }
   ],
   "source": [
    "variance_df"
   ]
  },
  {
   "cell_type": "code",
   "execution_count": 51,
   "metadata": {
    "id": "2c362e5c"
   },
   "outputs": [
    {
     "data": {
      "text/plain": [
       "['Earning', 'Earning_Per_Click', 'Impression', 'Purchase']"
      ]
     },
     "execution_count": 51,
     "metadata": {},
     "output_type": "execute_result"
    }
   ],
   "source": [
    "homogeneus"
   ]
  },
  {
   "cell_type": "code",
   "execution_count": 52,
   "metadata": {
    "id": "71378603"
   },
   "outputs": [
    {
     "data": {
      "text/plain": [
       "['Click']"
      ]
     },
     "execution_count": 52,
     "metadata": {},
     "output_type": "execute_result"
    }
   ],
   "source": [
    "not_homogeneus"
   ]
  },
  {
   "cell_type": "markdown",
   "metadata": {},
   "source": [
    "### INDEPENDENT TWO SAMPLE T TEST"
   ]
  },
  {
   "cell_type": "code",
   "execution_count": 53,
   "metadata": {
    "id": "052c8719"
   },
   "outputs": [],
   "source": [
    "# BAĞIMSIZ İKİ ÖRNEKLEM T TESTİ\n",
    "\n",
    "# Normallik ve Varyans Homojenliği varsayımları sağlanmıştı.\n",
    "# H0: Kontrol grubu purchase değişkeni ortalaması ile test grubu purchase değişkeni ortalaması arasında istatistiksel olarak anlamlı bir farklılık yoktur.\n",
    "# H1: Kontrol grubu purchase değişkeni ortalaması ile test grubu purchase değişkeni ortalaması arasında istatistiksel olarak anlamlı bir farklılık vardır.\n",
    "# p_value < 0.05 ise H0 reddedilir.\n",
    "\n",
    "from scipy.stats import ttest_ind, mannwhitneyu\n",
    "\n",
    "# Normal dağılan parametrik değişkenler için ttest, normal dağılmayan nonparametrik değişkenler için mannwhitneyu testini kullanıyoruz.\n",
    "feat_dict = {}\n",
    "for feat in control_normal_list:\n",
    "    if feat in homogeneus:\n",
    "        ttest_value, p_value = ttest_ind (control_df[feat], test_df[feat], equal_var=True)\n",
    "        feat_dict[feat] = p_value\n",
    "    elif feat not in homogeneus:\n",
    "        ttest_value, p_value = ttest_ind (control_df[feat], test_df[feat], equal_var=False)\n",
    "        feat_dict[feat] = p_value\n",
    "\n",
    "for feat in control_abnormal_list:\n",
    "    ttest_value, p_value = mannwhitneyu (control_df[feat], test_df[feat])\n",
    "    feat_dict[feat] = p_value\n",
    "\n",
    "ttest_df = pd.DataFrame (data=feat_dict.values (), index=feat_dict.keys (), columns=[\"Ttest_P_Value\"])\n"
   ]
  },
  {
   "cell_type": "code",
   "execution_count": 54,
   "metadata": {
    "id": "097a8973"
   },
   "outputs": [
    {
     "data": {
      "text/plain": [
       "113916.85"
      ]
     },
     "execution_count": 54,
     "metadata": {},
     "output_type": "execute_result"
    }
   ],
   "source": [
    "control_df[\"Impression\"].mean()"
   ]
  },
  {
   "cell_type": "code",
   "execution_count": 55,
   "metadata": {
    "id": "68432e25"
   },
   "outputs": [
    {
     "data": {
      "text/plain": [
       "138589.275"
      ]
     },
     "execution_count": 55,
     "metadata": {},
     "output_type": "execute_result"
    }
   ],
   "source": [
    "test_df[\"Impression\"].mean()"
   ]
  },
  {
   "cell_type": "code",
   "execution_count": 56,
   "metadata": {
    "id": "99f9dbca"
   },
   "outputs": [
    {
     "data": {
      "text/plain": [
       "5610.75"
      ]
     },
     "execution_count": 56,
     "metadata": {},
     "output_type": "execute_result"
    }
   ],
   "source": [
    "control_df[\"Click\"].mean()"
   ]
  },
  {
   "cell_type": "code",
   "execution_count": 57,
   "metadata": {
    "id": "2be99b29"
   },
   "outputs": [
    {
     "data": {
      "text/plain": [
       "3888.25"
      ]
     },
     "execution_count": 57,
     "metadata": {},
     "output_type": "execute_result"
    }
   ],
   "source": [
    "test_df[\"Click\"].mean()"
   ]
  },
  {
   "cell_type": "code",
   "execution_count": 58,
   "metadata": {
    "id": "193ba9d9"
   },
   "outputs": [
    {
     "data": {
      "text/plain": [
       "0.22214434505575292"
      ]
     },
     "execution_count": 58,
     "metadata": {},
     "output_type": "execute_result"
    }
   ],
   "source": [
    "(5100.625 - 3967.55) / 5100.625"
   ]
  },
  {
   "cell_type": "code",
   "execution_count": 59,
   "metadata": {
    "id": "0eeb3316"
   },
   "outputs": [
    {
     "data": {
      "text/plain": [
       "1157.0"
      ]
     },
     "execution_count": 59,
     "metadata": {},
     "output_type": "execute_result"
    }
   ],
   "source": [
    "control_df[\"Purchase\"].mean()"
   ]
  },
  {
   "cell_type": "code",
   "execution_count": 60,
   "metadata": {
    "id": "51e7cc7f"
   },
   "outputs": [
    {
     "data": {
      "text/plain": [
       "1193.3"
      ]
     },
     "execution_count": 60,
     "metadata": {},
     "output_type": "execute_result"
    }
   ],
   "source": [
    "test_df[\"Purchase\"].mean()"
   ]
  },
  {
   "cell_type": "code",
   "execution_count": 61,
   "metadata": {
    "id": "a91378cd"
   },
   "outputs": [
    {
     "data": {
      "text/plain": [
       "11833.05"
      ]
     },
     "execution_count": 61,
     "metadata": {},
     "output_type": "execute_result"
    }
   ],
   "source": [
    "control_df[\"Earning\"].mean()"
   ]
  },
  {
   "cell_type": "code",
   "execution_count": 62,
   "metadata": {
    "id": "b727adb5"
   },
   "outputs": [
    {
     "data": {
      "text/plain": [
       "15341.1"
      ]
     },
     "execution_count": 62,
     "metadata": {},
     "output_type": "execute_result"
    }
   ],
   "source": [
    "test_df[\"Earning\"].mean()"
   ]
  },
  {
   "cell_type": "code",
   "execution_count": 63,
   "metadata": {
    "id": "f260fa21"
   },
   "outputs": [
    {
     "data": {
      "text/html": [
       "<div>\n",
       "<style scoped>\n",
       "    .dataframe tbody tr th:only-of-type {\n",
       "        vertical-align: middle;\n",
       "    }\n",
       "\n",
       "    .dataframe tbody tr th {\n",
       "        vertical-align: top;\n",
       "    }\n",
       "\n",
       "    .dataframe thead th {\n",
       "        text-align: right;\n",
       "    }\n",
       "</style>\n",
       "<table border=\"1\" class=\"dataframe\">\n",
       "  <thead>\n",
       "    <tr style=\"text-align: right;\">\n",
       "      <th></th>\n",
       "      <th>Ttest_P_Value</th>\n",
       "    </tr>\n",
       "  </thead>\n",
       "  <tbody>\n",
       "    <tr>\n",
       "      <th>Impression</th>\n",
       "      <td>0.000004</td>\n",
       "    </tr>\n",
       "    <tr>\n",
       "      <th>Click</th>\n",
       "      <td>0.000000</td>\n",
       "    </tr>\n",
       "    <tr>\n",
       "      <th>Purchase</th>\n",
       "      <td>0.598424</td>\n",
       "    </tr>\n",
       "    <tr>\n",
       "      <th>Earning</th>\n",
       "      <td>0.000000</td>\n",
       "    </tr>\n",
       "    <tr>\n",
       "      <th>Earning_Per_Click</th>\n",
       "      <td>0.000000</td>\n",
       "    </tr>\n",
       "  </tbody>\n",
       "</table>\n",
       "</div>"
      ],
      "text/plain": [
       "                   Ttest_P_Value\n",
       "Impression              0.000004\n",
       "Click                   0.000000\n",
       "Purchase                0.598424\n",
       "Earning                 0.000000\n",
       "Earning_Per_Click       0.000000"
      ]
     },
     "execution_count": 63,
     "metadata": {},
     "output_type": "execute_result"
    }
   ],
   "source": [
    "ttest_df"
   ]
  },
  {
   "cell_type": "markdown",
   "metadata": {},
   "source": [
    "### Maximum ve Average Bidding ortalamalarını karşılaştırmak için dataframe'e ekliyoruz.\n"
   ]
  },
  {
   "cell_type": "code",
   "execution_count": 64,
   "metadata": {
    "id": "e3210157"
   },
   "outputs": [],
   "source": [
    "for col in control_df.columns:\n",
    "    ttest_df.loc[ttest_df.index == col, \"Maximum Bidding Mean\"] = control_df[col].mean ()"
   ]
  },
  {
   "cell_type": "code",
   "execution_count": 65,
   "metadata": {
    "id": "d26206a8"
   },
   "outputs": [
    {
     "data": {
      "text/html": [
       "<div>\n",
       "<style scoped>\n",
       "    .dataframe tbody tr th:only-of-type {\n",
       "        vertical-align: middle;\n",
       "    }\n",
       "\n",
       "    .dataframe tbody tr th {\n",
       "        vertical-align: top;\n",
       "    }\n",
       "\n",
       "    .dataframe thead th {\n",
       "        text-align: right;\n",
       "    }\n",
       "</style>\n",
       "<table border=\"1\" class=\"dataframe\">\n",
       "  <thead>\n",
       "    <tr style=\"text-align: right;\">\n",
       "      <th></th>\n",
       "      <th>Ttest_P_Value</th>\n",
       "      <th>Maximum Bidding Mean</th>\n",
       "    </tr>\n",
       "  </thead>\n",
       "  <tbody>\n",
       "    <tr>\n",
       "      <th>Impression</th>\n",
       "      <td>0.000004</td>\n",
       "      <td>113916.850000</td>\n",
       "    </tr>\n",
       "    <tr>\n",
       "      <th>Click</th>\n",
       "      <td>0.000000</td>\n",
       "      <td>5610.750000</td>\n",
       "    </tr>\n",
       "    <tr>\n",
       "      <th>Purchase</th>\n",
       "      <td>0.598424</td>\n",
       "      <td>1157.000000</td>\n",
       "    </tr>\n",
       "    <tr>\n",
       "      <th>Earning</th>\n",
       "      <td>0.000000</td>\n",
       "      <td>11833.050000</td>\n",
       "    </tr>\n",
       "    <tr>\n",
       "      <th>Earning_Per_Click</th>\n",
       "      <td>0.000000</td>\n",
       "      <td>2.301577</td>\n",
       "    </tr>\n",
       "  </tbody>\n",
       "</table>\n",
       "</div>"
      ],
      "text/plain": [
       "                   Ttest_P_Value  Maximum Bidding Mean\n",
       "Impression              0.000004         113916.850000\n",
       "Click                   0.000000           5610.750000\n",
       "Purchase                0.598424           1157.000000\n",
       "Earning                 0.000000          11833.050000\n",
       "Earning_Per_Click       0.000000              2.301577"
      ]
     },
     "execution_count": 65,
     "metadata": {},
     "output_type": "execute_result"
    }
   ],
   "source": [
    "ttest_df"
   ]
  },
  {
   "cell_type": "code",
   "execution_count": 66,
   "metadata": {
    "id": "3e50fd63"
   },
   "outputs": [],
   "source": [
    "for col in test_df.columns:\n",
    "    ttest_df.loc[ttest_df.index == col, \"Average Bidding Mean\"] = test_df[col].mean ()\n"
   ]
  },
  {
   "cell_type": "code",
   "execution_count": 67,
   "metadata": {
    "id": "2bf7f374"
   },
   "outputs": [
    {
     "data": {
      "text/html": [
       "<div>\n",
       "<style scoped>\n",
       "    .dataframe tbody tr th:only-of-type {\n",
       "        vertical-align: middle;\n",
       "    }\n",
       "\n",
       "    .dataframe tbody tr th {\n",
       "        vertical-align: top;\n",
       "    }\n",
       "\n",
       "    .dataframe thead th {\n",
       "        text-align: right;\n",
       "    }\n",
       "</style>\n",
       "<table border=\"1\" class=\"dataframe\">\n",
       "  <thead>\n",
       "    <tr style=\"text-align: right;\">\n",
       "      <th></th>\n",
       "      <th>Ttest_P_Value</th>\n",
       "      <th>Maximum Bidding Mean</th>\n",
       "      <th>Average Bidding Mean</th>\n",
       "    </tr>\n",
       "  </thead>\n",
       "  <tbody>\n",
       "    <tr>\n",
       "      <th>Impression</th>\n",
       "      <td>0.000004</td>\n",
       "      <td>113916.850000</td>\n",
       "      <td>138589.275000</td>\n",
       "    </tr>\n",
       "    <tr>\n",
       "      <th>Click</th>\n",
       "      <td>0.000000</td>\n",
       "      <td>5610.750000</td>\n",
       "      <td>3888.250000</td>\n",
       "    </tr>\n",
       "    <tr>\n",
       "      <th>Purchase</th>\n",
       "      <td>0.598424</td>\n",
       "      <td>1157.000000</td>\n",
       "      <td>1193.300000</td>\n",
       "    </tr>\n",
       "    <tr>\n",
       "      <th>Earning</th>\n",
       "      <td>0.000000</td>\n",
       "      <td>11833.050000</td>\n",
       "      <td>15341.100000</td>\n",
       "    </tr>\n",
       "    <tr>\n",
       "      <th>Earning_Per_Click</th>\n",
       "      <td>0.000000</td>\n",
       "      <td>2.301577</td>\n",
       "      <td>4.159869</td>\n",
       "    </tr>\n",
       "  </tbody>\n",
       "</table>\n",
       "</div>"
      ],
      "text/plain": [
       "                   Ttest_P_Value  Maximum Bidding Mean  Average Bidding Mean\n",
       "Impression              0.000004         113916.850000         138589.275000\n",
       "Click                   0.000000           5610.750000           3888.250000\n",
       "Purchase                0.598424           1157.000000           1193.300000\n",
       "Earning                 0.000000          11833.050000          15341.100000\n",
       "Earning_Per_Click       0.000000              2.301577              4.159869"
      ]
     },
     "execution_count": 67,
     "metadata": {},
     "output_type": "execute_result"
    }
   ],
   "source": [
    "ttest_df"
   ]
  },
  {
   "cell_type": "code",
   "execution_count": 68,
   "metadata": {
    "id": "75e91b81"
   },
   "outputs": [
    {
     "data": {
      "text/html": [
       "<div>\n",
       "<style scoped>\n",
       "    .dataframe tbody tr th:only-of-type {\n",
       "        vertical-align: middle;\n",
       "    }\n",
       "\n",
       "    .dataframe tbody tr th {\n",
       "        vertical-align: top;\n",
       "    }\n",
       "\n",
       "    .dataframe thead th {\n",
       "        text-align: right;\n",
       "    }\n",
       "</style>\n",
       "<table border=\"1\" class=\"dataframe\">\n",
       "  <thead>\n",
       "    <tr style=\"text-align: right;\">\n",
       "      <th></th>\n",
       "      <th>Ttest_P_Value</th>\n",
       "      <th>Maximum Bidding Mean</th>\n",
       "      <th>Average Bidding Mean</th>\n",
       "      <th>H0_Hypothesis</th>\n",
       "      <th>Winner</th>\n",
       "    </tr>\n",
       "  </thead>\n",
       "  <tbody>\n",
       "    <tr>\n",
       "      <th>Impression</th>\n",
       "      <td>0.000004</td>\n",
       "      <td>113916.850000</td>\n",
       "      <td>138589.275000</td>\n",
       "      <td>Rejected</td>\n",
       "      <td>Average Bidding</td>\n",
       "    </tr>\n",
       "    <tr>\n",
       "      <th>Click</th>\n",
       "      <td>0.000000</td>\n",
       "      <td>5610.750000</td>\n",
       "      <td>3888.250000</td>\n",
       "      <td>Rejected</td>\n",
       "      <td>Maximum Bidding</td>\n",
       "    </tr>\n",
       "    <tr>\n",
       "      <th>Purchase</th>\n",
       "      <td>0.598424</td>\n",
       "      <td>1157.000000</td>\n",
       "      <td>1193.300000</td>\n",
       "      <td>Not Rejected</td>\n",
       "      <td>No Difference</td>\n",
       "    </tr>\n",
       "    <tr>\n",
       "      <th>Earning</th>\n",
       "      <td>0.000000</td>\n",
       "      <td>11833.050000</td>\n",
       "      <td>15341.100000</td>\n",
       "      <td>Rejected</td>\n",
       "      <td>Average Bidding</td>\n",
       "    </tr>\n",
       "    <tr>\n",
       "      <th>Earning_Per_Click</th>\n",
       "      <td>0.000000</td>\n",
       "      <td>2.301577</td>\n",
       "      <td>4.159869</td>\n",
       "      <td>Rejected</td>\n",
       "      <td>Average Bidding</td>\n",
       "    </tr>\n",
       "  </tbody>\n",
       "</table>\n",
       "</div>"
      ],
      "text/plain": [
       "                   Ttest_P_Value  Maximum Bidding Mean  Average Bidding Mean  \\\n",
       "Impression              0.000004         113916.850000         138589.275000   \n",
       "Click                   0.000000           5610.750000           3888.250000   \n",
       "Purchase                0.598424           1157.000000           1193.300000   \n",
       "Earning                 0.000000          11833.050000          15341.100000   \n",
       "Earning_Per_Click       0.000000              2.301577              4.159869   \n",
       "\n",
       "                  H0_Hypothesis           Winner  \n",
       "Impression             Rejected  Average Bidding  \n",
       "Click                  Rejected  Maximum Bidding  \n",
       "Purchase           Not Rejected    No Difference  \n",
       "Earning                Rejected  Average Bidding  \n",
       "Earning_Per_Click      Rejected  Average Bidding  "
      ]
     },
     "execution_count": 68,
     "metadata": {},
     "output_type": "execute_result"
    }
   ],
   "source": [
    "threshold = 0.05           # p_value değeri\n",
    "ttest_df.loc[ttest_df[\"Ttest_P_Value\"] < threshold, \"H0_Hypothesis\"] = \"Rejected\"\n",
    "ttest_df.loc[ttest_df[\"Ttest_P_Value\"] >= threshold, \"H0_Hypothesis\"] = \"Not Rejected\"\n",
    "\n",
    "# Her bir değişken için iki bidding tipinin ortalamalarını karşılaştırıyoruz.\n",
    "ttest_df[\"Winner\"] = ttest_df.apply (\n",
    "    lambda x: \"Maximum Bidding\" if (x[\"Maximum Bidding Mean\"] >= x[\"Average Bidding Mean\"]) & (\n",
    "                x[\"H0_Hypothesis\"] == \"Rejected\") else\n",
    "    \"Average Bidding\" if (x[\"Maximum Bidding Mean\"] < x[\"Average Bidding Mean\"]) & (\n",
    "                x[\"H0_Hypothesis\"] == \"Rejected\") else\n",
    "    \"No Difference\", axis=1)\n",
    "\n",
    "ttest_df"
   ]
  },
  {
   "cell_type": "code",
   "execution_count": 69,
   "metadata": {
    "id": "06a4390b"
   },
   "outputs": [],
   "source": [
    "# Maksimum Maliyet Teklifi, Ortalama Maliyet Teklifi\n",
    "# kontrol grubunda önce maximum maliyetle teklif verilerek gözlem yapilmis.\n",
    "# sonra ortalama maliyet teklifi verilmis. \n",
    "# sonuclar arasinda anlamli fark var mi bun arastirmasini yaptik.\n"
   ]
  },
  {
   "cell_type": "code",
   "execution_count": null,
   "metadata": {},
   "outputs": [],
   "source": []
  },
  {
   "cell_type": "code",
   "execution_count": null,
   "metadata": {},
   "outputs": [],
   "source": []
  }
 ],
 "metadata": {
  "colab": {
   "provenance": []
  },
  "kernelspec": {
   "display_name": "Python 3",
   "language": "python",
   "name": "python3"
  },
  "language_info": {
   "codemirror_mode": {
    "name": "ipython",
    "version": 3
   },
   "file_extension": ".py",
   "mimetype": "text/x-python",
   "name": "python",
   "nbconvert_exporter": "python",
   "pygments_lexer": "ipython3",
   "version": "3.7.6"
  }
 },
 "nbformat": 4,
 "nbformat_minor": 5
}
